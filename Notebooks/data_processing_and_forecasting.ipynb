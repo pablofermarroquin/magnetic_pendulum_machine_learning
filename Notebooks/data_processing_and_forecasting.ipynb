{
 "cells": [
  {
   "cell_type": "markdown",
   "id": "6f0c5d94",
   "metadata": {},
   "source": [
    "# Libraries"
   ]
  },
  {
   "cell_type": "code",
   "execution_count": 1,
   "id": "95d29df0",
   "metadata": {},
   "outputs": [],
   "source": [
    "import pandas as pd\n",
    "import numpy as np\n",
    "from sklearn.ensemble import RandomForestRegressor\n",
    "from sklearn import linear_model\n",
    "from sklearn.neighbors import KNeighborsRegressor\n",
    "from sklearn.datasets import make_regression\n",
    "from sklearn.ensemble import GradientBoostingRegressor\n",
    "from xgboost import XGBRegressor\n",
    "from sklearn.model_selection import train_test_split\n",
    "import time\n",
    "import os\n",
    "from tqdm import tqdm\n",
    "import matplotlib.pyplot as plt\n",
    "plt.rcParams[\"figure.figsize\"] = (15,10)"
   ]
  },
  {
   "cell_type": "markdown",
   "id": "d020afca",
   "metadata": {},
   "source": [
    "# Evaluation functions"
   ]
  },
  {
   "cell_type": "code",
   "execution_count": 2,
   "id": "b71807e4",
   "metadata": {},
   "outputs": [],
   "source": [
    "def MAPE_MEAN(y_true,y_pred): #MAPE\n",
    "    y_true = np.where(y_true != 0, y_true, y_true + 1e-5)\n",
    "    return np.mean(np.abs((y_true - y_pred)/y_true))*100"
   ]
  },
  {
   "cell_type": "code",
   "execution_count": 3,
   "id": "27efb380",
   "metadata": {},
   "outputs": [],
   "source": [
    "def MAPE_MEDIAN(y_true,y_pred): #MdAPE\n",
    "    y_true = np.where(y_true != 0, y_true, y_true + 1e-5)\n",
    "    return np.median(np.abs((y_true - y_pred)/y_true))*100"
   ]
  },
  {
   "cell_type": "code",
   "execution_count": 4,
   "id": "9f7cac92",
   "metadata": {},
   "outputs": [],
   "source": [
    "def MAE_MEAN(y_true,y_pred): #MAE\n",
    "    y_true = np.where(y_true != 0, y_true, y_true + 1e-5)\n",
    "    return np.mean(np.abs((y_true - y_pred)))"
   ]
  },
  {
   "cell_type": "code",
   "execution_count": 5,
   "id": "c919097e",
   "metadata": {},
   "outputs": [],
   "source": [
    "def MAE_MEDIAN(y_true,y_pred): #MdAE\n",
    "    y_true = np.where(y_true != 0, y_true, y_true + 1e-5)\n",
    "    return np.median(np.abs((y_true - y_pred)))"
   ]
  },
  {
   "cell_type": "code",
   "execution_count": 6,
   "id": "2e4d9b83",
   "metadata": {},
   "outputs": [],
   "source": [
    "METRICS = {\n",
    "    \"MAPE_MEAN\":MAPE_MEAN,\n",
    "    \"MAPE_MEDIAN\":MAPE_MEDIAN,\n",
    "    \"MAE_MEAN\":MAE_MEAN,\n",
    "    \"MAE_MEDIAN\":MAE_MEDIAN\n",
    "}"
   ]
  },
  {
   "cell_type": "code",
   "execution_count": 7,
   "id": "e8171d67",
   "metadata": {},
   "outputs": [],
   "source": [
    "def calc_results(vald_data, pred_data, METRIC):\n",
    "    results = None\n",
    "    for c in vald_data.columns.tolist():\n",
    "        result_value = round(METRIC(vald_data[c], pred_data[c]),5)\n",
    "        if results is None:\n",
    "            results = pd.DataFrame([result_value,result_value], columns = [c])\n",
    "        else:\n",
    "            results[c] = result_value\n",
    "    return results.head(1)"
   ]
  },
  {
   "cell_type": "markdown",
   "id": "4b921726",
   "metadata": {},
   "source": [
    "# Data preparation"
   ]
  },
  {
   "cell_type": "code",
   "execution_count": 8,
   "id": "0482378c",
   "metadata": {},
   "outputs": [],
   "source": [
    "# M (int): amount of magnets\n",
    "def prepare_data(M): \n",
    "    base = f\"./../data/I{M}/R1/I{M}_R1_G0.csv\"\n",
    "    df = None\n",
    "    for r in range(1,2+1,1):\n",
    "        for g in range(0,360,15):\n",
    "            path = f\"./../data/I{M}/R{r}/I{M}_R{r}_G{g}.csv\"\n",
    "            new_df = pd.read_csv(path)\n",
    "            new_df[\"t\"] = new_df[\"t\"] - new_df[\"t\"][0]\n",
    "            df = new_df if df is None else pd.concat([df,new_df])\n",
    "\n",
    "    df = df.drop(\"t2\", axis = 1)\n",
    "    df = df.dropna()\n",
    "    return df"
   ]
  },
  {
   "cell_type": "code",
   "execution_count": 9,
   "id": "0c23782e",
   "metadata": {},
   "outputs": [],
   "source": [
    "# prepare_data(2).to_csv(\"data_I2.csv\", index = False)\n",
    "# prepare_data(3).to_csv(\"data_I3.csv\", index = False)\n",
    "# prepare_data(4).to_csv(\"data_I4.csv\", index = False)"
   ]
  },
  {
   "cell_type": "markdown",
   "id": "5e2ee08c",
   "metadata": {},
   "source": [
    "# Train models"
   ]
  },
  {
   "cell_type": "code",
   "execution_count": 10,
   "id": "9e900a76",
   "metadata": {},
   "outputs": [],
   "source": [
    "def train_predict(data, steps, test_size):\n",
    "    pred_data = None\n",
    "    vald_data = None\n",
    "    models = list(regr.keys())\n",
    "    for model in models:\n",
    "        start_time = time.time()\n",
    "#         print(\"    Model:\",model)\n",
    "        for var in \"xyz\":\n",
    "#             print(\"        Variable:\",var)\n",
    "            y = data[var].shift(steps).fillna(0)\n",
    "            x = data.values\n",
    "            x_train, x_test, y_train, y_test = train_test_split(x, y, random_state = 0, test_size = test_size, shuffle = True)\n",
    "            regr[model].fit(x_train, y_train)\n",
    "            y_pred = regr[model].predict(x_test)\n",
    "            if pred_data is None:\n",
    "                pred_data = pd.DataFrame(y_pred, columns = [f\"{model}-{var}\"]) \n",
    "                vald_data = pd.DataFrame(y_test.values, columns = [f\"{model}-{var}\"])\n",
    "            else:\n",
    "                pred_data[f\"{model}-{var}\"] = y_pred\n",
    "                vald_data[f\"{model}-{var}\"] = y_test.values\n",
    "        end_time = time.time()\n",
    "        time_lapsed = round(float(end_time - start_time),2)\n",
    "#         print(\"            Time:\",time_lapsed,\" s \\n\")\n",
    "    \n",
    "    return vald_data, pred_data"
   ]
  },
  {
   "cell_type": "markdown",
   "id": "0cdb9e64",
   "metadata": {},
   "source": [
    "# Working area"
   ]
  },
  {
   "cell_type": "code",
   "execution_count": 11,
   "id": "6f831404",
   "metadata": {},
   "outputs": [],
   "source": [
    "def prediction_test(magnets, test_size, total_steps,base_path):\n",
    "    results_table = None\n",
    "    for steps in range(1,total_steps+1,1):\n",
    "#         print(\"  STEPS:\",steps)\n",
    "#         data = prepare_data(magnets)\n",
    "        data = pd.read_csv(f\"data_I{magnets}.csv\")\n",
    "        vald_data, pred_data = train_predict(data = data, steps = steps, test_size = test_size)\n",
    "        data_join = pd.concat([vald_data.add_suffix('_vald'), pred_data.add_suffix('_pred')], axis = 1)\n",
    "        \n",
    "        path = f\"{base_path}/M({magnets})\"\n",
    "        if not os.path.isdir(path):\n",
    "            os.mkdir(path)\n",
    "            \n",
    "        data_join.to_csv(f\"{path}/M({magnets})_STEPS({steps}).csv\")\n",
    "            \n",
    "    return results_table"
   ]
  },
  {
   "cell_type": "code",
   "execution_count": 12,
   "id": "bf66ce07",
   "metadata": {},
   "outputs": [],
   "source": [
    "def test_run(test_name, test_size, steps):\n",
    "    base_path = f'./prediction_results/{test_name}' \n",
    "    os.mkdir(base_path)\n",
    "    description = f\"test_name:{test_name}\\n{str(regr)}\\ntest_size:{test_size}\\nsteps:{steps}\"\n",
    "    with open(f'{base_path}/test_description.txt', 'w') as f:\n",
    "        f.write(description)\n",
    "\n",
    "    start_time = time.time()\n",
    "\n",
    "    for M in tqdm(range(2,4+1,1)):\n",
    "#         print(f\"{M} MAGNETS\")\n",
    "        prediction_test(magnets = M,\n",
    "                        test_size = test_size,\n",
    "                        total_steps = steps,\n",
    "                        base_path = base_path)\n",
    "\n",
    "    end_time = time.time()\n",
    "    time_lapsed = round(float(end_time - start_time),2)\n",
    "#     print(\"Total time:\",time_lapsed,\" s \\n\")"
   ]
  },
  {
   "cell_type": "markdown",
   "id": "9e913d49",
   "metadata": {},
   "source": [
    "# Evaluation table"
   ]
  },
  {
   "cell_type": "code",
   "execution_count": 13,
   "id": "bcffddb9",
   "metadata": {},
   "outputs": [],
   "source": [
    "def evaluate_results(magnets, METRIC, steps, test_name):\n",
    "    base_path = f'./prediction_results/{test_name}'\n",
    "    results_table = None\n",
    "    for steps in range(1,steps + 1,1):\n",
    "        path = f\"{base_path}/M({magnets})\"\n",
    "        data_join = pd.read_csv(f\"{path}/M({magnets})_STEPS({steps}).csv\")\n",
    "        vald_columns = [s for s in data_join.columns.tolist() if \"vald\" in s]\n",
    "        pred_columns = [s for s in data_join.columns.tolist() if \"pred\" in s]\n",
    "        vald_data = data_join[vald_columns]\n",
    "        pred_data = data_join[pred_columns]\n",
    "        vald_data.columns = [w[:-5] for w in vald_data.columns]\n",
    "        pred_data.columns = [w[:-5] for w in pred_data.columns]\n",
    "        \n",
    "        results = calc_results(vald_data, pred_data, METRIC)\n",
    "        if results_table is None:\n",
    "            results_table = results\n",
    "        else:\n",
    "            results_table = pd.concat([results_table, results])\n",
    "            \n",
    "    results_table = results_table.reset_index(drop = True)\n",
    "    results_table.index +=1 \n",
    "    results_table.index.name = 'INTERVALOS'\n",
    "    results_table = results_table[[\"RFO-x\", \"LBR-x\", \"XGB-x\", \"KNN-x\",\n",
    "                                   \"RFO-y\", \"LBR-y\", \"XGB-y\", \"KNN-y\",\n",
    "                                   \"RFO-z\", \"LBR-z\", \"XGB-z\", \"KNN-z\"]] \n",
    "    return results_table"
   ]
  },
  {
   "cell_type": "markdown",
   "id": "eb9fa961",
   "metadata": {},
   "source": [
    "# Run and Evaluation "
   ]
  },
  {
   "cell_type": "code",
   "execution_count": 17,
   "id": "2596e24a",
   "metadata": {},
   "outputs": [],
   "source": [
    "steps = 3"
   ]
  },
  {
   "cell_type": "code",
   "execution_count": 14,
   "id": "2d9c8649",
   "metadata": {},
   "outputs": [],
   "source": [
    "regr = {\n",
    "        \"RFO\":RandomForestRegressor(n_estimators = 200, random_state=0),\n",
    "        \"LBR\":linear_model.BayesianRidge(n_iter=600),\n",
    "        \"XGB\": XGBRegressor(n_estimators=200),\n",
    "        \"KNN\":KNeighborsRegressor(n_neighbors = 10)\n",
    "       }"
   ]
  },
  {
   "cell_type": "code",
   "execution_count": 15,
   "id": "30fe739f",
   "metadata": {},
   "outputs": [
    {
     "name": "stderr",
     "output_type": "stream",
     "text": [
      "100%|██████████| 3/3 [19:21<00:00, 387.06s/it]\n"
     ]
    }
   ],
   "source": [
    "test_run(test_name = \"test_A\", test_size = 0.20, steps = 3)"
   ]
  },
  {
   "cell_type": "code",
   "execution_count": 19,
   "id": "17e6eaf5",
   "metadata": {},
   "outputs": [
    {
     "data": {
      "text/html": [
       "<div>\n",
       "<style scoped>\n",
       "    .dataframe tbody tr th:only-of-type {\n",
       "        vertical-align: middle;\n",
       "    }\n",
       "\n",
       "    .dataframe tbody tr th {\n",
       "        vertical-align: top;\n",
       "    }\n",
       "\n",
       "    .dataframe thead th {\n",
       "        text-align: right;\n",
       "    }\n",
       "</style>\n",
       "<table border=\"1\" class=\"dataframe\">\n",
       "  <thead>\n",
       "    <tr style=\"text-align: right;\">\n",
       "      <th></th>\n",
       "      <th>RFO-x</th>\n",
       "      <th>LBR-x</th>\n",
       "      <th>XGB-x</th>\n",
       "      <th>KNN-x</th>\n",
       "      <th>RFO-y</th>\n",
       "      <th>LBR-y</th>\n",
       "      <th>XGB-y</th>\n",
       "      <th>KNN-y</th>\n",
       "      <th>RFO-z</th>\n",
       "      <th>LBR-z</th>\n",
       "      <th>XGB-z</th>\n",
       "      <th>KNN-z</th>\n",
       "    </tr>\n",
       "    <tr>\n",
       "      <th>INTERVALOS</th>\n",
       "      <th></th>\n",
       "      <th></th>\n",
       "      <th></th>\n",
       "      <th></th>\n",
       "      <th></th>\n",
       "      <th></th>\n",
       "      <th></th>\n",
       "      <th></th>\n",
       "      <th></th>\n",
       "      <th></th>\n",
       "      <th></th>\n",
       "      <th></th>\n",
       "    </tr>\n",
       "  </thead>\n",
       "  <tbody>\n",
       "    <tr>\n",
       "      <th>1</th>\n",
       "      <td>0.00016</td>\n",
       "      <td>0.00016</td>\n",
       "      <td>0.00021</td>\n",
       "      <td>0.00257</td>\n",
       "      <td>0.00007</td>\n",
       "      <td>0.00012</td>\n",
       "      <td>0.00012</td>\n",
       "      <td>0.00087</td>\n",
       "      <td>0.00017</td>\n",
       "      <td>0.00021</td>\n",
       "      <td>0.00024</td>\n",
       "      <td>0.00812</td>\n",
       "    </tr>\n",
       "    <tr>\n",
       "      <th>2</th>\n",
       "      <td>0.00033</td>\n",
       "      <td>0.00107</td>\n",
       "      <td>0.00034</td>\n",
       "      <td>0.00266</td>\n",
       "      <td>0.00010</td>\n",
       "      <td>0.00014</td>\n",
       "      <td>0.00015</td>\n",
       "      <td>0.00089</td>\n",
       "      <td>0.00036</td>\n",
       "      <td>0.00115</td>\n",
       "      <td>0.00040</td>\n",
       "      <td>0.00860</td>\n",
       "    </tr>\n",
       "    <tr>\n",
       "      <th>3</th>\n",
       "      <td>0.00049</td>\n",
       "      <td>0.00303</td>\n",
       "      <td>0.00059</td>\n",
       "      <td>0.00143</td>\n",
       "      <td>0.00017</td>\n",
       "      <td>0.00026</td>\n",
       "      <td>0.00022</td>\n",
       "      <td>0.00086</td>\n",
       "      <td>0.00050</td>\n",
       "      <td>0.00349</td>\n",
       "      <td>0.00075</td>\n",
       "      <td>0.00911</td>\n",
       "    </tr>\n",
       "  </tbody>\n",
       "</table>\n",
       "</div>"
      ],
      "text/plain": [
       "              RFO-x    LBR-x    XGB-x    KNN-x    RFO-y    LBR-y    XGB-y  \\\n",
       "INTERVALOS                                                                  \n",
       "1           0.00016  0.00016  0.00021  0.00257  0.00007  0.00012  0.00012   \n",
       "2           0.00033  0.00107  0.00034  0.00266  0.00010  0.00014  0.00015   \n",
       "3           0.00049  0.00303  0.00059  0.00143  0.00017  0.00026  0.00022   \n",
       "\n",
       "              KNN-y    RFO-z    LBR-z    XGB-z    KNN-z  \n",
       "INTERVALOS                                               \n",
       "1           0.00087  0.00017  0.00021  0.00024  0.00812  \n",
       "2           0.00089  0.00036  0.00115  0.00040  0.00860  \n",
       "3           0.00086  0.00050  0.00349  0.00075  0.00911  "
      ]
     },
     "execution_count": 19,
     "metadata": {},
     "output_type": "execute_result"
    }
   ],
   "source": [
    "evaluate_results(2, METRICS[\"MAE_MEDIAN\"], steps, \"test_A\")"
   ]
  },
  {
   "cell_type": "code",
   "execution_count": 20,
   "id": "10ee589e",
   "metadata": {},
   "outputs": [
    {
     "data": {
      "text/html": [
       "<div>\n",
       "<style scoped>\n",
       "    .dataframe tbody tr th:only-of-type {\n",
       "        vertical-align: middle;\n",
       "    }\n",
       "\n",
       "    .dataframe tbody tr th {\n",
       "        vertical-align: top;\n",
       "    }\n",
       "\n",
       "    .dataframe thead th {\n",
       "        text-align: right;\n",
       "    }\n",
       "</style>\n",
       "<table border=\"1\" class=\"dataframe\">\n",
       "  <thead>\n",
       "    <tr style=\"text-align: right;\">\n",
       "      <th></th>\n",
       "      <th>RFO-x</th>\n",
       "      <th>LBR-x</th>\n",
       "      <th>XGB-x</th>\n",
       "      <th>KNN-x</th>\n",
       "      <th>RFO-y</th>\n",
       "      <th>LBR-y</th>\n",
       "      <th>XGB-y</th>\n",
       "      <th>KNN-y</th>\n",
       "      <th>RFO-z</th>\n",
       "      <th>LBR-z</th>\n",
       "      <th>XGB-z</th>\n",
       "      <th>KNN-z</th>\n",
       "    </tr>\n",
       "    <tr>\n",
       "      <th>INTERVALOS</th>\n",
       "      <th></th>\n",
       "      <th></th>\n",
       "      <th></th>\n",
       "      <th></th>\n",
       "      <th></th>\n",
       "      <th></th>\n",
       "      <th></th>\n",
       "      <th></th>\n",
       "      <th></th>\n",
       "      <th></th>\n",
       "      <th></th>\n",
       "      <th></th>\n",
       "    </tr>\n",
       "  </thead>\n",
       "  <tbody>\n",
       "    <tr>\n",
       "      <th>1</th>\n",
       "      <td>0.00021</td>\n",
       "      <td>0.00019</td>\n",
       "      <td>0.00026</td>\n",
       "      <td>0.00569</td>\n",
       "      <td>0.00010</td>\n",
       "      <td>0.00015</td>\n",
       "      <td>0.00014</td>\n",
       "      <td>0.00072</td>\n",
       "      <td>0.00023</td>\n",
       "      <td>0.00066</td>\n",
       "      <td>0.00025</td>\n",
       "      <td>0.00547</td>\n",
       "    </tr>\n",
       "    <tr>\n",
       "      <th>2</th>\n",
       "      <td>0.00048</td>\n",
       "      <td>0.00091</td>\n",
       "      <td>0.00051</td>\n",
       "      <td>0.00647</td>\n",
       "      <td>0.00015</td>\n",
       "      <td>0.00019</td>\n",
       "      <td>0.00018</td>\n",
       "      <td>0.00077</td>\n",
       "      <td>0.00050</td>\n",
       "      <td>0.00178</td>\n",
       "      <td>0.00049</td>\n",
       "      <td>0.00636</td>\n",
       "    </tr>\n",
       "    <tr>\n",
       "      <th>3</th>\n",
       "      <td>0.00077</td>\n",
       "      <td>0.00268</td>\n",
       "      <td>0.00094</td>\n",
       "      <td>0.00693</td>\n",
       "      <td>0.00025</td>\n",
       "      <td>0.00035</td>\n",
       "      <td>0.00027</td>\n",
       "      <td>0.00078</td>\n",
       "      <td>0.00085</td>\n",
       "      <td>0.00467</td>\n",
       "      <td>0.00097</td>\n",
       "      <td>0.00679</td>\n",
       "    </tr>\n",
       "  </tbody>\n",
       "</table>\n",
       "</div>"
      ],
      "text/plain": [
       "              RFO-x    LBR-x    XGB-x    KNN-x    RFO-y    LBR-y    XGB-y  \\\n",
       "INTERVALOS                                                                  \n",
       "1           0.00021  0.00019  0.00026  0.00569  0.00010  0.00015  0.00014   \n",
       "2           0.00048  0.00091  0.00051  0.00647  0.00015  0.00019  0.00018   \n",
       "3           0.00077  0.00268  0.00094  0.00693  0.00025  0.00035  0.00027   \n",
       "\n",
       "              KNN-y    RFO-z    LBR-z    XGB-z    KNN-z  \n",
       "INTERVALOS                                               \n",
       "1           0.00072  0.00023  0.00066  0.00025  0.00547  \n",
       "2           0.00077  0.00050  0.00178  0.00049  0.00636  \n",
       "3           0.00078  0.00085  0.00467  0.00097  0.00679  "
      ]
     },
     "execution_count": 20,
     "metadata": {},
     "output_type": "execute_result"
    }
   ],
   "source": [
    "evaluate_results(3, METRICS[\"MAE_MEDIAN\"], steps, \"test_A\")"
   ]
  },
  {
   "cell_type": "code",
   "execution_count": 21,
   "id": "f61c516c",
   "metadata": {},
   "outputs": [
    {
     "data": {
      "text/html": [
       "<div>\n",
       "<style scoped>\n",
       "    .dataframe tbody tr th:only-of-type {\n",
       "        vertical-align: middle;\n",
       "    }\n",
       "\n",
       "    .dataframe tbody tr th {\n",
       "        vertical-align: top;\n",
       "    }\n",
       "\n",
       "    .dataframe thead th {\n",
       "        text-align: right;\n",
       "    }\n",
       "</style>\n",
       "<table border=\"1\" class=\"dataframe\">\n",
       "  <thead>\n",
       "    <tr style=\"text-align: right;\">\n",
       "      <th></th>\n",
       "      <th>RFO-x</th>\n",
       "      <th>LBR-x</th>\n",
       "      <th>XGB-x</th>\n",
       "      <th>KNN-x</th>\n",
       "      <th>RFO-y</th>\n",
       "      <th>LBR-y</th>\n",
       "      <th>XGB-y</th>\n",
       "      <th>KNN-y</th>\n",
       "      <th>RFO-z</th>\n",
       "      <th>LBR-z</th>\n",
       "      <th>XGB-z</th>\n",
       "      <th>KNN-z</th>\n",
       "    </tr>\n",
       "    <tr>\n",
       "      <th>INTERVALOS</th>\n",
       "      <th></th>\n",
       "      <th></th>\n",
       "      <th></th>\n",
       "      <th></th>\n",
       "      <th></th>\n",
       "      <th></th>\n",
       "      <th></th>\n",
       "      <th></th>\n",
       "      <th></th>\n",
       "      <th></th>\n",
       "      <th></th>\n",
       "      <th></th>\n",
       "    </tr>\n",
       "  </thead>\n",
       "  <tbody>\n",
       "    <tr>\n",
       "      <th>1</th>\n",
       "      <td>0.00019</td>\n",
       "      <td>0.00017</td>\n",
       "      <td>0.00025</td>\n",
       "      <td>0.00391</td>\n",
       "      <td>0.00009</td>\n",
       "      <td>0.00014</td>\n",
       "      <td>0.00012</td>\n",
       "      <td>0.00060</td>\n",
       "      <td>0.00019</td>\n",
       "      <td>0.00017</td>\n",
       "      <td>0.00028</td>\n",
       "      <td>0.00383</td>\n",
       "    </tr>\n",
       "    <tr>\n",
       "      <th>2</th>\n",
       "      <td>0.00046</td>\n",
       "      <td>0.00072</td>\n",
       "      <td>0.00047</td>\n",
       "      <td>0.00480</td>\n",
       "      <td>0.00012</td>\n",
       "      <td>0.00019</td>\n",
       "      <td>0.00015</td>\n",
       "      <td>0.00070</td>\n",
       "      <td>0.00048</td>\n",
       "      <td>0.00068</td>\n",
       "      <td>0.00050</td>\n",
       "      <td>0.00474</td>\n",
       "    </tr>\n",
       "    <tr>\n",
       "      <th>3</th>\n",
       "      <td>0.00084</td>\n",
       "      <td>0.00202</td>\n",
       "      <td>0.00092</td>\n",
       "      <td>0.00510</td>\n",
       "      <td>0.00024</td>\n",
       "      <td>0.00035</td>\n",
       "      <td>0.00026</td>\n",
       "      <td>0.00074</td>\n",
       "      <td>0.00088</td>\n",
       "      <td>0.00191</td>\n",
       "      <td>0.00088</td>\n",
       "      <td>0.00503</td>\n",
       "    </tr>\n",
       "  </tbody>\n",
       "</table>\n",
       "</div>"
      ],
      "text/plain": [
       "              RFO-x    LBR-x    XGB-x    KNN-x    RFO-y    LBR-y    XGB-y  \\\n",
       "INTERVALOS                                                                  \n",
       "1           0.00019  0.00017  0.00025  0.00391  0.00009  0.00014  0.00012   \n",
       "2           0.00046  0.00072  0.00047  0.00480  0.00012  0.00019  0.00015   \n",
       "3           0.00084  0.00202  0.00092  0.00510  0.00024  0.00035  0.00026   \n",
       "\n",
       "              KNN-y    RFO-z    LBR-z    XGB-z    KNN-z  \n",
       "INTERVALOS                                               \n",
       "1           0.00060  0.00019  0.00017  0.00028  0.00383  \n",
       "2           0.00070  0.00048  0.00068  0.00050  0.00474  \n",
       "3           0.00074  0.00088  0.00191  0.00088  0.00503  "
      ]
     },
     "execution_count": 21,
     "metadata": {},
     "output_type": "execute_result"
    }
   ],
   "source": [
    "evaluate_results(4, METRICS[\"MAE_MEDIAN\"], steps, \"test_A\")"
   ]
  },
  {
   "cell_type": "markdown",
   "id": "8c2ea6dc",
   "metadata": {},
   "source": [
    "# Graphs"
   ]
  },
  {
   "cell_type": "markdown",
   "id": "4c69af10",
   "metadata": {},
   "source": [
    "### $x$ component"
   ]
  },
  {
   "cell_type": "code",
   "execution_count": null,
   "id": "b231e9a0",
   "metadata": {},
   "outputs": [],
   "source": [
    "g1 = pd.read_csv(\"../data/I3/R1/I3_R1_G0.csv\")\n",
    "g1 = g1[g1[\"t\"]<=18]\n",
    "plt.plot(g1[\"t\"],g1[\"x\"]+0.005, label = \"$R_1$\") # vertical translation to set reference at 0\n",
    "\n",
    "g2 = pd.read_csv(\"../data/I3/R2/I3_R2_G0.csv\")\n",
    "g2 = g2[g2[\"t\"]<=18]\n",
    "plt.plot(g2[\"t\"],g2[\"x\"]+0.005, label = \"$R_2$\") # vertical translation to set reference at 0\n",
    "\n",
    "plt.grid()\n",
    "plt.xlabel(\"\\nTiempo (s)\", fontsize = 15)\n",
    "plt.ylabel(\"Componente $x$ (m)\", fontsize = 15)\n",
    "plt.legend(fontsize = 15)\n",
    "\n",
    "plt.xticks(np.arange(0, 19, 1), fontsize = 12)\n",
    "plt.yticks(np.arange(-0.05, 0.05, 0.01), fontsize = 12)\n",
    "\n",
    "plt.title(\" \")\n",
    "plt.savefig('comp_x.pdf')"
   ]
  },
  {
   "cell_type": "markdown",
   "id": "a4181f53",
   "metadata": {},
   "source": [
    "### $y$ component"
   ]
  },
  {
   "cell_type": "code",
   "execution_count": null,
   "id": "50f13425",
   "metadata": {},
   "outputs": [],
   "source": [
    "g1 = pd.read_csv(\"../data/I3/R1/I3_R1_G0.csv\")\n",
    "g1 = g1[g1[\"t\"]<=18]\n",
    "plt.plot(g1[\"t\"],g1[\"y\"], label = \"$R_1$\")\n",
    "\n",
    "g2 = pd.read_csv(\"../data/I3/R2/I3_R2_G0.csv\")\n",
    "g2 = g2[g2[\"t\"]<=18]\n",
    "plt.plot(g2[\"t\"],g2[\"y\"], label = \"$R_2$\")\n",
    "\n",
    "plt.grid()\n",
    "plt.xlabel(\"\\nTiempo (s)\", fontsize = 15)\n",
    "plt.ylabel(\"Componente $y$ (m)\", fontsize = 15)\n",
    "plt.legend(fontsize = 15)\n",
    "\n",
    "plt.xticks(np.arange(0, 19, 1), fontsize = 12)\n",
    "plt.yticks(np.arange(-0.005, 0.006, 0.001), fontsize = 12)\n",
    "\n",
    "plt.title(\" \")\n",
    "plt.savefig('comp_y.pdf')"
   ]
  },
  {
   "cell_type": "markdown",
   "id": "3f0a17c1",
   "metadata": {},
   "source": [
    "### $z$ component"
   ]
  },
  {
   "cell_type": "code",
   "execution_count": null,
   "id": "de176bb2",
   "metadata": {},
   "outputs": [],
   "source": [
    "g1 = pd.read_csv(\"../data/I3/R1/I3_R1_G0.csv\")\n",
    "g1 = g1[g1[\"t\"]<=18]\n",
    "plt.plot(g1[\"t\"],g1[\"z\"]+0.005, label = \"$R_1$\") # vertical translation to set reference at 0\n",
    "\n",
    "g2 = pd.read_csv(\"../data/I3/R2/I3_R2_G0.csv\")\n",
    "g2 = g2[g2[\"t\"]<=18]\n",
    "plt.plot(g2[\"t\"],g2[\"z\"]+0.005, label = \"$R_2$\") # vertical translation to set reference at 0\n",
    "\n",
    "plt.grid()\n",
    "plt.xlabel(\"\\nTiempo (s)\", fontsize = 15)\n",
    "plt.ylabel(\"Componente $z$ (m)\", fontsize = 15)\n",
    "plt.legend(fontsize = 15)\n",
    "\n",
    "plt.xticks(np.arange(0, 19, 1), fontsize = 12)\n",
    "plt.yticks(np.arange(-0.05, 0.07, 0.01), fontsize = 12)\n",
    "\n",
    "plt.title(\" \")\n",
    "plt.savefig('comp_z.pdf')"
   ]
  }
 ],
 "metadata": {
  "kernelspec": {
   "display_name": "Python 3 (ipykernel)",
   "language": "python",
   "name": "python3"
  },
  "language_info": {
   "codemirror_mode": {
    "name": "ipython",
    "version": 3
   },
   "file_extension": ".py",
   "mimetype": "text/x-python",
   "name": "python",
   "nbconvert_exporter": "python",
   "pygments_lexer": "ipython3",
   "version": "3.9.7"
  }
 },
 "nbformat": 4,
 "nbformat_minor": 5
}
